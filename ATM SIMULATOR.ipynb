{
 "cells": [
  {
   "cell_type": "markdown",
   "id": "f7f9b8dd",
   "metadata": {},
   "source": [
    "# ATM Simulator"
   ]
  },
  {
   "cell_type": "code",
   "execution_count": 3,
   "id": "e7f3f05b",
   "metadata": {},
   "outputs": [
    {
     "name": "stdout",
     "output_type": "stream",
     "text": [
      "***** Welcome To ATM Machine Simulator *****\n",
      "Enter Your Pin: 65566\n",
      "\n",
      "Options you can Exercise are:\n",
      "1) Balance\n",
      "2) Withdraw\n",
      "3) Deposit\n",
      "4) Exit\n",
      "\n",
      "Select Your Transaction from the above options: 2\n",
      "Enter Amount: 60000\n",
      "Insufficient Balance\n"
     ]
    }
   ],
   "source": [
    "class ATMSimulator:\n",
    "    def __init__(self):\n",
    "        self.balance = 10000\n",
    "\n",
    "    def check_balance(self):\n",
    "        print(f\"Your balance is Rs. {self.balance}\")\n",
    "\n",
    "    def withdraw_amount(self, amount):\n",
    "        if amount > self.balance:\n",
    "            print(\"Insufficient Balance\")\n",
    "        else:\n",
    "            self.balance -= amount\n",
    "            print(f\"Withdrawal successful. Remaining balance: Rs. {self.balance}\")\n",
    "\n",
    "    def deposit_amount(self, amount):\n",
    "        self.balance += amount\n",
    "        print(f\"Deposit successful. Updated balance: Rs. {self.balance}\")\n",
    "\n",
    "def main():\n",
    "    print(\"***** Welcome To ATM Machine Simulator *****\")\n",
    "    \n",
    "    # For simplicity, hardcoding the PIN here. In real-world scenario, this should be more secure.\n",
    "    correct_pin = \"65566\"\n",
    "    entered_pin = input(\"Enter Your Pin: \")\n",
    "\n",
    "    if entered_pin == correct_pin:\n",
    "        atm = ATMSimulator()\n",
    "\n",
    "        print(\"\\nOptions you can Exercise are:\")\n",
    "        print(\"1) Balance\")\n",
    "        print(\"2) Withdraw\")\n",
    "        print(\"3) Deposit\")\n",
    "        print(\"4) Exit\")\n",
    "\n",
    "        choice = input(\"\\nSelect Your Transaction from the above options: \")\n",
    "\n",
    "        if choice == \"1\":\n",
    "            atm.check_balance()\n",
    "        elif choice == \"2\":\n",
    "            amount = int(input(\"Enter Amount: \"))\n",
    "            atm.withdraw_amount(amount)\n",
    "        elif choice == \"3\":\n",
    "            amount = int(input(\"Enter Amount: \"))\n",
    "            atm.deposit_amount(amount)\n",
    "        elif choice == \"4\":\n",
    "            print(\"Thank you for using the ATM. Goodbye!\")\n",
    "        else:\n",
    "            print(\"Invalid choice. Please select a valid option.\")\n",
    "    else:\n",
    "        print(\"Incorrect PIN. Exiting...\")\n",
    "\n",
    "if __name__ == \"__main__\":\n",
    "    main()\n"
   ]
  }
 ],
 "metadata": {
  "kernelspec": {
   "display_name": "Python 3 (ipykernel)",
   "language": "python",
   "name": "python3"
  },
  "language_info": {
   "codemirror_mode": {
    "name": "ipython",
    "version": 3
   },
   "file_extension": ".py",
   "mimetype": "text/x-python",
   "name": "python",
   "nbconvert_exporter": "python",
   "pygments_lexer": "ipython3",
   "version": "3.11.5"
  }
 },
 "nbformat": 4,
 "nbformat_minor": 5
}
